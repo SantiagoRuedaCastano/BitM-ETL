{
 "cells": [
  {
   "cell_type": "markdown",
   "metadata": {},
   "source": [
    "## BitM - ETL"
   ]
  },
  {
   "cell_type": "code",
   "execution_count": 1,
   "metadata": {},
   "outputs": [
    {
     "name": "stdout",
     "output_type": "stream",
     "text": [
      "Defaulting to user installation because normal site-packages is not writeable\n",
      "Collecting pandas==2.2.3\n",
      "  Downloading pandas-2.2.3-cp312-cp312-manylinux_2_17_x86_64.manylinux2014_x86_64.whl.metadata (89 kB)\n",
      "Collecting numpy>=1.26.0 (from pandas==2.2.3)\n",
      "  Downloading numpy-2.2.3-cp312-cp312-manylinux_2_17_x86_64.manylinux2014_x86_64.whl.metadata (62 kB)\n",
      "Requirement already satisfied: python-dateutil>=2.8.2 in /home/delubrum/.var/app/com.vscodium.codium/data/python/lib/python3.12/site-packages (from pandas==2.2.3) (2.9.0.post0)\n",
      "Collecting pytz>=2020.1 (from pandas==2.2.3)\n",
      "  Downloading pytz-2025.1-py2.py3-none-any.whl.metadata (22 kB)\n",
      "Collecting tzdata>=2022.7 (from pandas==2.2.3)\n",
      "  Downloading tzdata-2025.1-py2.py3-none-any.whl.metadata (1.4 kB)\n",
      "Requirement already satisfied: six>=1.5 in /usr/lib/python3.12/site-packages (from python-dateutil>=2.8.2->pandas==2.2.3) (1.17.0)\n",
      "Downloading pandas-2.2.3-cp312-cp312-manylinux_2_17_x86_64.manylinux2014_x86_64.whl (12.7 MB)\n",
      "\u001b[2K   \u001b[90m━━━━━━━━━━━━━━━━━━━━━━━━━━━━━━━━━━━━━━━━\u001b[0m \u001b[32m12.7/12.7 MB\u001b[0m \u001b[31m10.6 MB/s\u001b[0m eta \u001b[36m0:00:00\u001b[0m00:01\u001b[0m00:01\u001b[0m\n",
      "\u001b[?25hDownloading numpy-2.2.3-cp312-cp312-manylinux_2_17_x86_64.manylinux2014_x86_64.whl (16.1 MB)\n",
      "\u001b[2K   \u001b[90m━━━━━━━━━━━━━━━━━━━━━━━━━━━━━━━━━━━━━━━━\u001b[0m \u001b[32m16.1/16.1 MB\u001b[0m \u001b[31m11.9 MB/s\u001b[0m eta \u001b[36m0:00:00\u001b[0m00:01\u001b[0m00:01\u001b[0m\n",
      "\u001b[?25hDownloading pytz-2025.1-py2.py3-none-any.whl (507 kB)\n",
      "Downloading tzdata-2025.1-py2.py3-none-any.whl (346 kB)\n",
      "Installing collected packages: pytz, tzdata, numpy, pandas\n",
      "Successfully installed numpy-2.2.3 pandas-2.2.3 pytz-2025.1 tzdata-2025.1\n",
      "Defaulting to user installation because normal site-packages is not writeable\n",
      "Collecting returns\n",
      "  Downloading returns-0.24.0-py3-none-any.whl.metadata (24 kB)\n",
      "Collecting typing-extensions<5.0,>=4.0 (from returns)\n",
      "  Downloading typing_extensions-4.12.2-py3-none-any.whl.metadata (3.0 kB)\n",
      "Downloading returns-0.24.0-py3-none-any.whl (158 kB)\n",
      "Downloading typing_extensions-4.12.2-py3-none-any.whl (37 kB)\n",
      "Installing collected packages: typing-extensions, returns\n",
      "Successfully installed returns-0.24.0 typing-extensions-4.12.2\n"
     ]
    }
   ],
   "source": [
    "!pip install pandas==2.2.3\n",
    "!pip install returns"
   ]
  },
  {
   "cell_type": "code",
   "execution_count": 2,
   "metadata": {},
   "outputs": [],
   "source": [
    "from returns.io import IO, IOSuccess, IOFailure, IOResult"
   ]
  },
  {
   "cell_type": "code",
   "execution_count": 3,
   "metadata": {},
   "outputs": [],
   "source": [
    "def alpha(number: int) -> IOResult[int, int]:\n",
    "    return IOSuccess(number) if number<10 else IOFailure(number)\n"
   ]
  },
  {
   "cell_type": "code",
   "execution_count": 4,
   "metadata": {},
   "outputs": [],
   "source": [
    "result = list(map(alpha, [1,2,3,11,12,13]))"
   ]
  },
  {
   "cell_type": "code",
   "execution_count": 6,
   "metadata": {},
   "outputs": [
    {
     "name": "stdout",
     "output_type": "stream",
     "text": [
      "<class 'returns.io.IOSuccess'>\n",
      "<class 'returns.io.IOSuccess'>\n",
      "<class 'returns.io.IOSuccess'>\n",
      "<class 'returns.io.IOFailure'>\n",
      "<class 'returns.io.IOFailure'>\n",
      "<class 'returns.io.IOFailure'>\n"
     ]
    }
   ],
   "source": [
    "for item in result:\n",
    "    print(type(item))"
   ]
  },
  {
   "cell_type": "code",
   "execution_count": 14,
   "metadata": {},
   "outputs": [],
   "source": [
    "epsilom = IOSuccess('aa')"
   ]
  },
  {
   "cell_type": "code",
   "execution_count": null,
   "metadata": {},
   "outputs": [],
   "source": [
    "epsilom"
   ]
  },
  {
   "cell_type": "code",
   "execution_count": 13,
   "metadata": {},
   "outputs": [],
   "source": [
    "qq  = epsilom.unwrap"
   ]
  },
  {
   "cell_type": "code",
   "execution_count": null,
   "metadata": {},
   "outputs": [],
   "source": []
  },
  {
   "cell_type": "code",
   "execution_count": 12,
   "metadata": {},
   "outputs": [
    {
     "name": "stdout",
     "output_type": "stream",
     "text": [
      "<class 'method'>\n"
     ]
    }
   ],
   "source": [
    "print(type(qq))"
   ]
  },
  {
   "cell_type": "code",
   "execution_count": null,
   "metadata": {},
   "outputs": [],
   "source": []
  },
  {
   "cell_type": "code",
   "execution_count": null,
   "metadata": {},
   "outputs": [],
   "source": []
  },
  {
   "cell_type": "code",
   "execution_count": null,
   "metadata": {},
   "outputs": [],
   "source": []
  },
  {
   "cell_type": "code",
   "execution_count": null,
   "metadata": {},
   "outputs": [],
   "source": []
  },
  {
   "cell_type": "code",
   "execution_count": null,
   "metadata": {},
   "outputs": [],
   "source": []
  },
  {
   "cell_type": "code",
   "execution_count": 16,
   "metadata": {},
   "outputs": [],
   "source": [
    "import pandas as pd\n",
    "import os\n",
    "import re\n",
    "import numpy as np"
   ]
  },
  {
   "cell_type": "code",
   "execution_count": 17,
   "metadata": {},
   "outputs": [],
   "source": [
    "# Historical Path\n",
    "hist_path = 'data/hist/'"
   ]
  },
  {
   "cell_type": "code",
   "execution_count": 18,
   "metadata": {},
   "outputs": [],
   "source": [
    "# Daily Path \n",
    "daily_path = 'data/daily/'"
   ]
  },
  {
   "cell_type": "code",
   "execution_count": 19,
   "metadata": {},
   "outputs": [],
   "source": [
    "def get_files(path):\n",
    "    files = os.listdir(path)\n",
    "    # Filter only CSV files\n",
    "    return [file for file in files if file.endswith('.csv')]"
   ]
  },
  {
   "cell_type": "code",
   "execution_count": 20,
   "metadata": {},
   "outputs": [],
   "source": [
    "def process_files_in_dir(path, cols, fn):\n",
    "    dfTmp = []\n",
    "    files = get_files(path)\n",
    "    for file in files:\n",
    "        filepath = os.path.join(path, file)\n",
    "        df = pd.read_csv(filepath, sep=';', names=cols, header=1, usecols=range(len(cols)))\n",
    "        dfTmp.append(fn(file, df))\n",
    "    \n",
    "    return pd.concat(dfTmp, ignore_index=True) if files else None"
   ]
  },
  {
   "cell_type": "markdown",
   "metadata": {},
   "source": [
    "### Historical Processing"
   ]
  },
  {
   "cell_type": "code",
   "execution_count": 21,
   "metadata": {},
   "outputs": [],
   "source": [
    "column_names = ['Fecha', 'Nemotécnico', 'Precio cierre']"
   ]
  },
  {
   "cell_type": "code",
   "execution_count": 22,
   "metadata": {},
   "outputs": [],
   "source": [
    "rename_cols = lambda df : df.rename(columns={'Fecha': 'Date', 'Precio cierre': 'Close', 'Nemotécnico':'Stock'})"
   ]
  },
  {
   "cell_type": "code",
   "execution_count": 23,
   "metadata": {},
   "outputs": [],
   "source": [
    "cast_close = lambda df : df['Close'].astype(str).str.replace(',', '').replace('-', '0').astype(float)"
   ]
  },
  {
   "cell_type": "code",
   "execution_count": 24,
   "metadata": {},
   "outputs": [],
   "source": [
    "# Cast date column\n",
    "cast_date = lambda df : pd.to_datetime(df['Date'])"
   ]
  },
  {
   "cell_type": "code",
   "execution_count": 25,
   "metadata": {},
   "outputs": [],
   "source": [
    "def process_hist(file, df):\n",
    "    print(f'processing file {file}')\n",
    "    df = rename_cols(df)    \n",
    "    df['Close'] = cast_close(df)\n",
    "    df['Date'] = cast_date(df)\n",
    "    df.insert(1, 'src', 'hist')\n",
    "    return df"
   ]
  },
  {
   "cell_type": "code",
   "execution_count": 26,
   "metadata": {},
   "outputs": [
    {
     "name": "stdout",
     "output_type": "stream",
     "text": [
      "processing file BCOLOMBIA_20240613_055318.csv\n",
      "processing file BOGOTA_20240613_114646.csv\n",
      "processing file CELSIA_20240614_101420.csv\n",
      "processing file CEMARGOS_20240613_114831.csv\n",
      "processing file CORFICOLCF_20240614_101233.csv\n",
      "processing file ECOPETROL_20240702_101105.csv\n",
      "processing file GEB_20240613_055444.csv\n",
      "processing file GRUBOLIVAR_20240614_101320.csv\n",
      "processing file GRUPOARGOS_20240613_114334.csv\n",
      "processing file GRUPOSURA_20240613_114143.csv\n",
      "processing file ISA_20240613_055521.csv\n",
      "processing file NUTRESA_20240613_115147.csv\n",
      "processing file PFAVAL_20240613_114405.csv\n",
      "processing file PFBCOLOM_20240613_055405.csv\n",
      "processing file PFCORFICOL_20240614_101155.csv\n",
      "processing file PFDAVVNDA_20240613_114741.csv\n",
      "processing file PFGRUPOARG_20240613_114232.csv\n",
      "processing file PFGRUPSURA_20240613_055607.csv\n",
      "processing file PROMIGAS_20240614_101116.csv\n"
     ]
    }
   ],
   "source": [
    "dfHist = process_files_in_dir(hist_path, column_names, process_hist)"
   ]
  },
  {
   "cell_type": "code",
   "execution_count": 27,
   "metadata": {},
   "outputs": [],
   "source": [
    "dfHist.to_parquet('data.parquet')"
   ]
  },
  {
   "cell_type": "markdown",
   "metadata": {},
   "source": [
    "### Daily Processing"
   ]
  },
  {
   "cell_type": "code",
   "execution_count": 28,
   "metadata": {},
   "outputs": [],
   "source": [
    "column_names = ['Nemotécnico', 'Último precio']"
   ]
  },
  {
   "cell_type": "code",
   "execution_count": 29,
   "metadata": {},
   "outputs": [],
   "source": [
    "rename_cols = lambda df : df.rename(columns={'Último precio': 'Close', 'Nemotécnico':'Stock'})"
   ]
  },
  {
   "cell_type": "code",
   "execution_count": 30,
   "metadata": {},
   "outputs": [],
   "source": [
    "cast_close_daily = lambda df : df['Close'].astype(str).str.replace(',', '.').replace('-', '0').astype(float)"
   ]
  },
  {
   "cell_type": "code",
   "execution_count": 31,
   "metadata": {},
   "outputs": [],
   "source": [
    "def add_date(file_name):\n",
    "    \n",
    "    # Regular expression pattern\n",
    "    pattern = r'RVLocal_(\\d{4})(\\d{2})(\\d{2})\\.csv'\n",
    "    \n",
    "    # Search for the pattern in the string\n",
    "    match = re.search(pattern, file_name)\n",
    "    \n",
    "    # Extract the matched groups\n",
    "    if match:\n",
    "        year = match.group(1)\n",
    "        month = match.group(2)\n",
    "        day = match.group(3)\n",
    "        return f\"{year}-{month}-{day}\"\n",
    "\n",
    "    return '1900-01-01'    "
   ]
  },
  {
   "cell_type": "code",
   "execution_count": 32,
   "metadata": {},
   "outputs": [],
   "source": [
    "def process_daily(filename, df):\n",
    "\n",
    "    df = rename_cols(df)\n",
    "    df['Close'] = cast_close_daily(df)\n",
    "    # Insert the new column at the beginning\n",
    "    df.insert(0, 'Date', add_date(filename))\n",
    "    df['Date'] = cast_date(df)\n",
    "    df.insert(1, 'src', 'daily')\n",
    "    return df"
   ]
  },
  {
   "cell_type": "code",
   "execution_count": 33,
   "metadata": {},
   "outputs": [],
   "source": [
    "dfDaily = process_files_in_dir(daily_path, column_names, process_daily)"
   ]
  },
  {
   "cell_type": "code",
   "execution_count": 34,
   "metadata": {},
   "outputs": [],
   "source": [
    "dfStockTemp = pd.concat([dfHist, dfDaily], ignore_index=True) \\\n",
    "                .sort_values(by=['Stock', 'Date', 'src'], ascending=[True, True, False]) \\\n",
    "                .drop_duplicates(subset=['Stock', 'Date'], keep='first')"
   ]
  },
  {
   "cell_type": "code",
   "execution_count": 35,
   "metadata": {},
   "outputs": [
    {
     "data": {
      "text/html": [
       "<div>\n",
       "<style scoped>\n",
       "    .dataframe tbody tr th:only-of-type {\n",
       "        vertical-align: middle;\n",
       "    }\n",
       "\n",
       "    .dataframe tbody tr th {\n",
       "        vertical-align: top;\n",
       "    }\n",
       "\n",
       "    .dataframe thead th {\n",
       "        text-align: right;\n",
       "    }\n",
       "</style>\n",
       "<table border=\"1\" class=\"dataframe\">\n",
       "  <thead>\n",
       "    <tr style=\"text-align: right;\">\n",
       "      <th></th>\n",
       "      <th>Date</th>\n",
       "      <th>src</th>\n",
       "      <th>Stock</th>\n",
       "      <th>Close</th>\n",
       "    </tr>\n",
       "  </thead>\n",
       "  <tbody>\n",
       "    <tr>\n",
       "      <th>2431</th>\n",
       "      <td>2024-06-26</td>\n",
       "      <td>daily</td>\n",
       "      <td>TERPEL</td>\n",
       "      <td>0.0</td>\n",
       "    </tr>\n",
       "    <tr>\n",
       "      <th>2455</th>\n",
       "      <td>2024-06-27</td>\n",
       "      <td>daily</td>\n",
       "      <td>TERPEL</td>\n",
       "      <td>9010.0</td>\n",
       "    </tr>\n",
       "    <tr>\n",
       "      <th>2498</th>\n",
       "      <td>2024-06-28</td>\n",
       "      <td>daily</td>\n",
       "      <td>TERPEL</td>\n",
       "      <td>9000.0</td>\n",
       "    </tr>\n",
       "    <tr>\n",
       "      <th>2525</th>\n",
       "      <td>2024-07-02</td>\n",
       "      <td>daily</td>\n",
       "      <td>TERPEL</td>\n",
       "      <td>9010.0</td>\n",
       "    </tr>\n",
       "    <tr>\n",
       "      <th>2368</th>\n",
       "      <td>2024-06-24</td>\n",
       "      <td>daily</td>\n",
       "      <td>VALSIMESA</td>\n",
       "      <td>0.0</td>\n",
       "    </tr>\n",
       "  </tbody>\n",
       "</table>\n",
       "</div>"
      ],
      "text/plain": [
       "           Date    src      Stock   Close\n",
       "2431 2024-06-26  daily     TERPEL     0.0\n",
       "2455 2024-06-27  daily     TERPEL  9010.0\n",
       "2498 2024-06-28  daily     TERPEL  9000.0\n",
       "2525 2024-07-02  daily     TERPEL  9010.0\n",
       "2368 2024-06-24  daily  VALSIMESA     0.0"
      ]
     },
     "execution_count": 35,
     "metadata": {},
     "output_type": "execute_result"
    }
   ],
   "source": [
    "dfStockTemp.tail()"
   ]
  },
  {
   "cell_type": "code",
   "execution_count": null,
   "metadata": {},
   "outputs": [],
   "source": []
  }
 ],
 "metadata": {
  "kernelspec": {
   "display_name": "Python 3",
   "language": "python",
   "name": "python3"
  },
  "language_info": {
   "codemirror_mode": {
    "name": "ipython",
    "version": 3
   },
   "file_extension": ".py",
   "mimetype": "text/x-python",
   "name": "python",
   "nbconvert_exporter": "python",
   "pygments_lexer": "ipython3",
   "version": "3.12.9"
  }
 },
 "nbformat": 4,
 "nbformat_minor": 2
}
