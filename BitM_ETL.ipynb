{
 "cells": [
  {
   "cell_type": "markdown",
   "metadata": {},
   "source": [
    "## BitM - ETL"
   ]
  },
  {
   "cell_type": "code",
   "execution_count": 1,
   "metadata": {},
   "outputs": [
    {
     "name": "stdout",
     "output_type": "stream",
     "text": [
      "Requirement already satisfied: pandas==2.2.3 in /home/eternum/data/project/containers/Notebooks/.venv/lib/python3.12/site-packages (2.2.3)\n",
      "Requirement already satisfied: numpy>=1.26.0 in /home/eternum/data/project/containers/Notebooks/.venv/lib/python3.12/site-packages (from pandas==2.2.3) (2.2.3)\n",
      "Requirement already satisfied: python-dateutil>=2.8.2 in /home/eternum/data/project/containers/Notebooks/.venv/lib/python3.12/site-packages (from pandas==2.2.3) (2.9.0.post0)\n",
      "Requirement already satisfied: pytz>=2020.1 in /home/eternum/data/project/containers/Notebooks/.venv/lib/python3.12/site-packages (from pandas==2.2.3) (2025.1)\n",
      "Requirement already satisfied: tzdata>=2022.7 in /home/eternum/data/project/containers/Notebooks/.venv/lib/python3.12/site-packages (from pandas==2.2.3) (2025.1)\n",
      "Requirement already satisfied: six>=1.5 in /home/eternum/data/project/containers/Notebooks/.venv/lib/python3.12/site-packages (from python-dateutil>=2.8.2->pandas==2.2.3) (1.17.0)\n",
      "Requirement already satisfied: returns in /home/eternum/data/project/containers/Notebooks/.venv/lib/python3.12/site-packages (0.24.0)\n",
      "Requirement already satisfied: typing-extensions<5.0,>=4.0 in /home/eternum/data/project/containers/Notebooks/.venv/lib/python3.12/site-packages (from returns) (4.12.2)\n"
     ]
    }
   ],
   "source": [
    "!pip install pandas==2.2.3\n",
    "!pip install returns"
   ]
  },
  {
   "cell_type": "code",
   "execution_count": 2,
   "metadata": {},
   "outputs": [],
   "source": [
    "from returns.io import IO, IOSuccess, IOFailure, IOResult\n",
    "from pathlib import Path"
   ]
  },
  {
   "cell_type": "code",
   "execution_count": 3,
   "metadata": {},
   "outputs": [],
   "source": [
    "def read_csv_file(input_file:str) -> IOResult[str, str]:\n",
    "    try:\n",
    "        # Open the input file and read the content\n",
    "        with open(input_file, mode='r', newline='', encoding='utf-8') as f:\n",
    "            return IOSuccess(f.read())\n",
    "    except IOError as e:\n",
    "        return IOFailure(input_file)"
   ]
  },
  {
   "cell_type": "code",
   "execution_count": 4,
   "metadata": {},
   "outputs": [],
   "source": [
    "def write_csv_file(lines:str, file_path:str) -> IOResult[str, str]:\n",
    "    try:\n",
    "        with open(file_path, mode='w', newline='', encoding='utf-8') as f:\n",
    "            f.write(lines)\n",
    "            \n",
    "        return IOSuccess(file_path)\n",
    "    except IOError as e:\n",
    "        return IOFailure(file_path)"
   ]
  },
  {
   "cell_type": "code",
   "execution_count": 5,
   "metadata": {},
   "outputs": [],
   "source": [
    "def fix_header(lines:str) -> str:\n",
    "    return lines.map(lambda line: line.replace(';EQTY', ''))"
   ]
  },
  {
   "cell_type": "code",
   "execution_count": 6,
   "metadata": {},
   "outputs": [],
   "source": [
    "def fix_csv_file(input_file, output_file) -> IOResult[str, str]:\n",
    "    match read_csv_file(input_file):\n",
    "        case IOSuccess(value):\n",
    "            return write_csv_file(fix_header(value).unwrap(), output_file)\n",
    "        case IOFailure(value):\n",
    "            return IOFailure(value)\n",
    "        "
   ]
  },
  {
   "cell_type": "code",
   "execution_count": 7,
   "metadata": {},
   "outputs": [],
   "source": [
    "res = fix_csv_file('/home/eternum/data/project/git/BitM-ETL/data/landing/daily/RVLocal_20250313.csv', '/home/eternum/data/project/git/BitM-ETL/data/landing/daily/RVLocal_20250313_aa.csv')"
   ]
  },
  {
   "cell_type": "code",
   "execution_count": 8,
   "metadata": {},
   "outputs": [
    {
     "data": {
      "text/plain": [
       "<IOResult: <Success: /home/eternum/data/project/git/BitM-ETL/data/landing/daily/RVLocal_20250313_aa.csv>>"
      ]
     },
     "execution_count": 8,
     "metadata": {},
     "output_type": "execute_result"
    }
   ],
   "source": [
    "res"
   ]
  },
  {
   "cell_type": "code",
   "execution_count": 9,
   "metadata": {},
   "outputs": [
    {
     "name": "stdout",
     "output_type": "stream",
     "text": [
      "<IOResult: <Success: /home/eternum/data/project/git/BitM-ETL/data/landing/daily/RVLocal_20250313_aa.csv>>\n"
     ]
    }
   ],
   "source": [
    "print(res)"
   ]
  },
  {
   "cell_type": "code",
   "execution_count": 10,
   "metadata": {},
   "outputs": [
    {
     "data": {
      "text/plain": [
       "<IOResult: <Success: ﻿Nemotécnico;Último precio;Variación porcentual;Volúmenes;Cantidad;Variación absoluta;Precio apertura;Precio máximo;Precio mínimo;Precio promedio;Emisor / nombre\n",
       "PFBCOLOM;42900;-1,29;32436348900;748768;-560;43520;43760;42840;43319,62;BANCO BANCOLOMBIA;EQTY\n",
       "ECOPETROL;2010;-0,25;15269331450;7539898;-5;2020;2045;2005;2025,14;ECOPETROL;EQTY\n",
       "PFGRUPSURA;38000;-2,56;14830835440;389232;-1000;38500;38900;37400;38102,82;GRUPO SURA;EQTY\n",
       "BCOLOMBIA;46240;0,52;10245517820;220175;240;46660;46800;46240;46533,52;BANCO BANCOLOMBIA;EQTY\n",
       "GRUPOARGOS;20380;-0,59;7710519800;381395;-120;20400;20400;20120;20216,63;GRUPO ARGOS;EQTY\n",
       "GRUPOSURA;39320;-2,67;6324023180;159942;-1080;40400;40400;39260;39539,48;GRUPO SURA;EQTY\n",
       "CEMARGOS;9860;2,71;3989995410;406911;260;9850;9890;9650;9805,57;CEMENTOS ARGOS;EQTY\n",
       "PEI;74000;-;1954940620;26350;-;74000;74500;74000;74191,29;PEI;EQTY\n",
       "GEB;2850;-;1223983475;429879;-;2850;2850;2825;2847,27;GRUPO ENERGIA BOGOTA;EQTY\n",
       "ISA;18900;-1,66;1203429160;62557;-320;19200;19500;18900;19237,32;ISA INTERCONEXION ELECTRICA;EQTY\n",
       "PFGRUPOARG;15600;-;846235900;54376;-;15620;15620;15380;15562,67;GRUPO ARGOS;EQTY\n",
       "CORFICOLCF;16980;-2,97;700590840;41060;-520;17300;17300;16980;17062,61;CORFICOLOMBIANA;EQTY\n",
       "TERPEL;12500;-0,32;511036140;40788;-40;12560;12560;12500;12529,08;ORGANIZACION TERPEL;EQTY\n",
       "PFDAVVNDA;20560;0,29;494624520;24020;60;20700;20700;20320;20592,19;BANCO DAVIVIENDA;EQTY\n",
       "CELSIA;3770;0,13;404242105;107557;5;3765;3770;3740;3758,4;CELSIA;EQTY\n",
       "MINEROS;5400;0,37;380204120;70409;20;5380;5400;5380;5399,94;MINEROS;EQTY\n",
       "CONCONCRET;497;0,2;307511169;623854;1;494;499;490;492,92;CONCONCRETO S.A;EQTY\n",
       "PFAVAL;590;-1,67;253672083;426615;-10;600;601;590;594,62;GRUPO AVAL ACCIONES Y VALORES;EQTY\n",
       "BOGOTA;30500;-0,65;250851660;8230;-200;30800;30800;30300;30480,15;BANCO DE BOGOTA;EQTY\n",
       "ICOLCAP;15858;-0,26;191321292;12015;-42;15932;15932;15858;15923,54;FONDO BURSATIL ISHARES COLCAP;EQTY\n",
       "EXITO;1880;0,8;179877165;94835;15;1895;1910;1880;1896,74;EXITO;EQTY\n",
       "BVC;12500;-0,79;114760520;9139;-100;12600;12600;12500;12557,23;BOLSA DE VALORES DE COLOMBIA;EQTY\n",
       "GRUBOLIVAR;75000;-;107617960;1435;-;75000;75000;75000;74995,09;GRUPO BOLIVAR;EQTY\n",
       "CNEC;10980;0,92;78888060;7191;100;10880;10980;10880;10970,39;CANACOL ENERGY LTD;EQTY\n",
       "BHI;313;0,32;64415398;206130;1;312;313;312;312,5;BAC HOLDING INTERNATIONAL CORP;EQTY\n",
       "PFCEMARGOS;9730;-2,7;35961410;3677;-270;9730;9730;9730;9780,1;CEMENTOS ARGOS;EQTY\n",
       "PFCORFICOL;17280;0,12;34216920;1981;20;17280;17280;17280;17272,55;CORFICOLOMBIANA;EQTY\n",
       "GRUPOAVAL;596;-0,17;23073000;38688;-1;596;596;596;596,39;GRUPO AVAL ACCIONES Y VALORES;EQTY\n",
       "ENKA;-;-;17447309,8;1032305;-;-;-;-;16,9;ENKA DE COLOMBIA;EQTY\n",
       "NUTRESA;-;-;11391500;97;-;-;-;-;117438,14;GRUPO NUTRESA;EQTY\n",
       "ETB;-;-;5563361;106292;-;-;-;-;52,34;ETB;EQTY\n",
       "PROMIGAS;-;-;5043690;726;-;-;-;-;6947,23;PROMIGAS;EQTY\n",
       "VILLAS;-;-;3395840;1516;-;-;-;-;2240;BANCO AV VILLAS;EQTY\n",
       "HCOLSEL;-;-;3345097;196;-;-;-;-;17066,82;FONDO BURSATIL GLOBAL X COLOMBIA SELECT DE S&P;EQTY\n",
       "GXTESCOL;-;-;1142900;22;-;-;-;-;51950;FONDO BURSATIL GLOBAL X TES COLOMBIA COP GBI-EM ID ETF;EQTY\n",
       ">>"
      ]
     },
     "execution_count": 10,
     "metadata": {},
     "output_type": "execute_result"
    }
   ],
   "source": [
    "read_csv_file('/home/eternum/data/project/git/BitM-ETL/data/landing/daily/RVLocal_20250313.csv')"
   ]
  },
  {
   "cell_type": "code",
   "execution_count": 11,
   "metadata": {},
   "outputs": [],
   "source": [
    "\n",
    "\n",
    "\n",
    "\n",
    "def read_csv_file(input_file:str) -> IOResult[str, str]:\n",
    "    pass"
   ]
  },
  {
   "cell_type": "code",
   "execution_count": null,
   "metadata": {},
   "outputs": [],
   "source": []
  },
  {
   "cell_type": "code",
   "execution_count": null,
   "metadata": {},
   "outputs": [],
   "source": []
  },
  {
   "cell_type": "code",
   "execution_count": null,
   "metadata": {},
   "outputs": [],
   "source": []
  },
  {
   "cell_type": "code",
   "execution_count": null,
   "metadata": {},
   "outputs": [],
   "source": []
  },
  {
   "cell_type": "code",
   "execution_count": null,
   "metadata": {},
   "outputs": [],
   "source": []
  },
  {
   "cell_type": "code",
   "execution_count": 12,
   "metadata": {},
   "outputs": [
    {
     "ename": "SyntaxError",
     "evalue": "incomplete input (1401920307.py, line 6)",
     "output_type": "error",
     "traceback": [
      "  \u001b[36mCell\u001b[39m\u001b[36m \u001b[39m\u001b[32mIn[12]\u001b[39m\u001b[32m, line 6\u001b[39m\n\u001b[31m    \u001b[39m\n    ^\n\u001b[31mSyntaxError\u001b[39m\u001b[31m:\u001b[39m incomplete input\n"
     ]
    }
   ],
   "source": [
    "\n",
    "            \n",
    "\n",
    "\n",
    "\n",
    "\n",
    "\n",
    "def fix_header(input_file) -> IOResult[str, str]:\n",
    "    match read_csv_file(input_file):\n",
    "        case IOSuccess(value):\n",
    "            \n",
    "\n",
    "    "
   ]
  },
  {
   "cell_type": "code",
   "execution_count": null,
   "metadata": {},
   "outputs": [],
   "source": []
  },
  {
   "cell_type": "code",
   "execution_count": null,
   "metadata": {},
   "outputs": [],
   "source": []
  },
  {
   "cell_type": "code",
   "execution_count": null,
   "metadata": {},
   "outputs": [],
   "source": [
    "print()"
   ]
  },
  {
   "cell_type": "code",
   "execution_count": 45,
   "metadata": {},
   "outputs": [],
   "source": [
    "def gamma(number:int) -> IOResult[str, str]:\n",
    "    return IOSuccess('a') if number<10 else IOFailure('b')"
   ]
  },
  {
   "cell_type": "code",
   "execution_count": 47,
   "metadata": {},
   "outputs": [],
   "source": [
    "def epsilom(alpha:str) -> IOResult[str, str]:\n",
    "    return alpha.upper()"
   ]
  },
  {
   "cell_type": "code",
   "execution_count": null,
   "metadata": {},
   "outputs": [],
   "source": [
    "gamma(13).bind(epsilom)"
   ]
  },
  {
   "cell_type": "code",
   "execution_count": null,
   "metadata": {},
   "outputs": [],
   "source": []
  },
  {
   "cell_type": "code",
   "execution_count": null,
   "metadata": {},
   "outputs": [],
   "source": []
  },
  {
   "cell_type": "code",
   "execution_count": null,
   "metadata": {},
   "outputs": [],
   "source": []
  },
  {
   "cell_type": "code",
   "execution_count": null,
   "metadata": {},
   "outputs": [],
   "source": []
  },
  {
   "cell_type": "code",
   "execution_count": null,
   "metadata": {},
   "outputs": [],
   "source": [
    "type(g)"
   ]
  },
  {
   "cell_type": "code",
   "execution_count": null,
   "metadata": {},
   "outputs": [],
   "source": [
    "print(g.map(type))"
   ]
  },
  {
   "cell_type": "code",
   "execution_count": null,
   "metadata": {},
   "outputs": [],
   "source": []
  },
  {
   "cell_type": "code",
   "execution_count": null,
   "metadata": {},
   "outputs": [],
   "source": []
  },
  {
   "cell_type": "code",
   "execution_count": null,
   "metadata": {},
   "outputs": [],
   "source": []
  },
  {
   "cell_type": "code",
   "execution_count": null,
   "metadata": {},
   "outputs": [],
   "source": []
  },
  {
   "cell_type": "code",
   "execution_count": null,
   "metadata": {},
   "outputs": [],
   "source": []
  },
  {
   "cell_type": "code",
   "execution_count": null,
   "metadata": {},
   "outputs": [],
   "source": []
  },
  {
   "cell_type": "code",
   "execution_count": 7,
   "metadata": {},
   "outputs": [],
   "source": [
    "alpha = read_csv_file('/home/eternum/data/project/git/BitM-ETL/data/landing/daily/RVLocal_20250313.csv')"
   ]
  },
  {
   "cell_type": "code",
   "execution_count": null,
   "metadata": {},
   "outputs": [],
   "source": [
    "gamma = "
   ]
  },
  {
   "cell_type": "code",
   "execution_count": null,
   "metadata": {},
   "outputs": [],
   "source": [
    "type(gamma)"
   ]
  },
  {
   "cell_type": "code",
   "execution_count": null,
   "metadata": {},
   "outputs": [],
   "source": [
    "with open('/home/eternum/data/project/git/BitM-ETL/data/landing/daily/RVLocal_fix_20250313.csv', mode='w', newline='', encoding='utf-8') as f:\n",
    "    for line in gamma:\n",
    "        f.write(line)"
   ]
  },
  {
   "cell_type": "code",
   "execution_count": null,
   "metadata": {},
   "outputs": [],
   "source": []
  },
  {
   "cell_type": "code",
   "execution_count": null,
   "metadata": {},
   "outputs": [],
   "source": []
  },
  {
   "cell_type": "code",
   "execution_count": null,
   "metadata": {},
   "outputs": [],
   "source": []
  },
  {
   "cell_type": "code",
   "execution_count": null,
   "metadata": {},
   "outputs": [],
   "source": []
  },
  {
   "cell_type": "code",
   "execution_count": 3,
   "metadata": {},
   "outputs": [],
   "source": [
    "def alpha(number: int) -> IOResult[int, int]:\n",
    "    return IOSuccess(number) if number<10 else IOFailure(number)\n"
   ]
  },
  {
   "cell_type": "code",
   "execution_count": 4,
   "metadata": {},
   "outputs": [],
   "source": [
    "result = list(map(alpha, [1,2,3,11,12,13]))"
   ]
  },
  {
   "cell_type": "code",
   "execution_count": null,
   "metadata": {},
   "outputs": [],
   "source": [
    "for item in result:\n",
    "    print(type(item))"
   ]
  },
  {
   "cell_type": "code",
   "execution_count": 14,
   "metadata": {},
   "outputs": [],
   "source": [
    "epsilom = IOSuccess('aa')"
   ]
  },
  {
   "cell_type": "code",
   "execution_count": null,
   "metadata": {},
   "outputs": [],
   "source": [
    "epsilom"
   ]
  },
  {
   "cell_type": "code",
   "execution_count": 13,
   "metadata": {},
   "outputs": [],
   "source": [
    "qq  = epsilom.unwrap"
   ]
  },
  {
   "cell_type": "code",
   "execution_count": null,
   "metadata": {},
   "outputs": [],
   "source": []
  },
  {
   "cell_type": "code",
   "execution_count": null,
   "metadata": {},
   "outputs": [],
   "source": [
    "print(type(qq))"
   ]
  },
  {
   "cell_type": "code",
   "execution_count": null,
   "metadata": {},
   "outputs": [],
   "source": []
  },
  {
   "cell_type": "code",
   "execution_count": null,
   "metadata": {},
   "outputs": [],
   "source": []
  },
  {
   "cell_type": "code",
   "execution_count": null,
   "metadata": {},
   "outputs": [],
   "source": []
  },
  {
   "cell_type": "code",
   "execution_count": null,
   "metadata": {},
   "outputs": [],
   "source": []
  },
  {
   "cell_type": "code",
   "execution_count": null,
   "metadata": {},
   "outputs": [],
   "source": []
  },
  {
   "cell_type": "code",
   "execution_count": 16,
   "metadata": {},
   "outputs": [],
   "source": [
    "import pandas as pd\n",
    "import os\n",
    "import re\n",
    "import numpy as np"
   ]
  },
  {
   "cell_type": "code",
   "execution_count": 17,
   "metadata": {},
   "outputs": [],
   "source": [
    "# Historical Path\n",
    "hist_path = 'data/hist/'"
   ]
  },
  {
   "cell_type": "code",
   "execution_count": 18,
   "metadata": {},
   "outputs": [],
   "source": [
    "# Daily Path \n",
    "daily_path = 'data/daily/'"
   ]
  },
  {
   "cell_type": "code",
   "execution_count": 19,
   "metadata": {},
   "outputs": [],
   "source": [
    "def get_files(path):\n",
    "    files = os.listdir(path)\n",
    "    # Filter only CSV files\n",
    "    return [file for file in files if file.endswith('.csv')]"
   ]
  },
  {
   "cell_type": "code",
   "execution_count": 20,
   "metadata": {},
   "outputs": [],
   "source": [
    "def process_files_in_dir(path, cols, fn):\n",
    "    dfTmp = []\n",
    "    files = get_files(path)\n",
    "    for file in files:\n",
    "        filepath = os.path.join(path, file)\n",
    "        df = pd.read_csv(filepath, sep=';', names=cols, header=1, usecols=range(len(cols)))\n",
    "        dfTmp.append(fn(file, df))\n",
    "    \n",
    "    return pd.concat(dfTmp, ignore_index=True) if files else None"
   ]
  },
  {
   "cell_type": "markdown",
   "metadata": {},
   "source": [
    "### Historical Processing"
   ]
  },
  {
   "cell_type": "code",
   "execution_count": 21,
   "metadata": {},
   "outputs": [],
   "source": [
    "column_names = ['Fecha', 'Nemotécnico', 'Precio cierre']"
   ]
  },
  {
   "cell_type": "code",
   "execution_count": 22,
   "metadata": {},
   "outputs": [],
   "source": [
    "rename_cols = lambda df : df.rename(columns={'Fecha': 'Date', 'Precio cierre': 'Close', 'Nemotécnico':'Stock'})"
   ]
  },
  {
   "cell_type": "code",
   "execution_count": 23,
   "metadata": {},
   "outputs": [],
   "source": [
    "cast_close = lambda df : df['Close'].astype(str).str.replace(',', '').replace('-', '0').astype(float)"
   ]
  },
  {
   "cell_type": "code",
   "execution_count": 24,
   "metadata": {},
   "outputs": [],
   "source": [
    "# Cast date column\n",
    "cast_date = lambda df : pd.to_datetime(df['Date'])"
   ]
  },
  {
   "cell_type": "code",
   "execution_count": 25,
   "metadata": {},
   "outputs": [],
   "source": [
    "def process_hist(file, df):\n",
    "    print(f'processing file {file}')\n",
    "    df = rename_cols(df)    \n",
    "    df['Close'] = cast_close(df)\n",
    "    df['Date'] = cast_date(df)\n",
    "    df.insert(1, 'src', 'hist')\n",
    "    return df"
   ]
  },
  {
   "cell_type": "code",
   "execution_count": null,
   "metadata": {},
   "outputs": [],
   "source": [
    "dfHist = process_files_in_dir(hist_path, column_names, process_hist)"
   ]
  },
  {
   "cell_type": "code",
   "execution_count": 27,
   "metadata": {},
   "outputs": [],
   "source": [
    "dfHist.to_parquet('data.parquet')"
   ]
  },
  {
   "cell_type": "markdown",
   "metadata": {},
   "source": [
    "### Daily Processing"
   ]
  },
  {
   "cell_type": "code",
   "execution_count": 28,
   "metadata": {},
   "outputs": [],
   "source": [
    "column_names = ['Nemotécnico', 'Último precio']"
   ]
  },
  {
   "cell_type": "code",
   "execution_count": 29,
   "metadata": {},
   "outputs": [],
   "source": [
    "rename_cols = lambda df : df.rename(columns={'Último precio': 'Close', 'Nemotécnico':'Stock'})"
   ]
  },
  {
   "cell_type": "code",
   "execution_count": 30,
   "metadata": {},
   "outputs": [],
   "source": [
    "cast_close_daily = lambda df : df['Close'].astype(str).str.replace(',', '.').replace('-', '0').astype(float)"
   ]
  },
  {
   "cell_type": "code",
   "execution_count": 31,
   "metadata": {},
   "outputs": [],
   "source": [
    "def add_date(file_name):\n",
    "    \n",
    "    # Regular expression pattern\n",
    "    pattern = r'RVLocal_(\\d{4})(\\d{2})(\\d{2})\\.csv'\n",
    "    \n",
    "    # Search for the pattern in the string\n",
    "    match = re.search(pattern, file_name)\n",
    "    \n",
    "    # Extract the matched groups\n",
    "    if match:\n",
    "        year = match.group(1)\n",
    "        month = match.group(2)\n",
    "        day = match.group(3)\n",
    "        return f\"{year}-{month}-{day}\"\n",
    "\n",
    "    return '1900-01-01'    "
   ]
  },
  {
   "cell_type": "code",
   "execution_count": 32,
   "metadata": {},
   "outputs": [],
   "source": [
    "def process_daily(filename, df):\n",
    "\n",
    "    df = rename_cols(df)\n",
    "    df['Close'] = cast_close_daily(df)\n",
    "    # Insert the new column at the beginning\n",
    "    df.insert(0, 'Date', add_date(filename))\n",
    "    df['Date'] = cast_date(df)\n",
    "    df.insert(1, 'src', 'daily')\n",
    "    return df"
   ]
  },
  {
   "cell_type": "code",
   "execution_count": 33,
   "metadata": {},
   "outputs": [],
   "source": [
    "dfDaily = process_files_in_dir(daily_path, column_names, process_daily)"
   ]
  },
  {
   "cell_type": "code",
   "execution_count": 34,
   "metadata": {},
   "outputs": [],
   "source": [
    "dfStockTemp = pd.concat([dfHist, dfDaily], ignore_index=True) \\\n",
    "                .sort_values(by=['Stock', 'Date', 'src'], ascending=[True, True, False]) \\\n",
    "                .drop_duplicates(subset=['Stock', 'Date'], keep='first')"
   ]
  },
  {
   "cell_type": "code",
   "execution_count": null,
   "metadata": {},
   "outputs": [],
   "source": [
    "dfStockTemp.tail()"
   ]
  },
  {
   "cell_type": "code",
   "execution_count": null,
   "metadata": {},
   "outputs": [],
   "source": []
  }
 ],
 "metadata": {
  "kernelspec": {
   "display_name": ".venv",
   "language": "python",
   "name": "python3"
  },
  "language_info": {
   "codemirror_mode": {
    "name": "ipython",
    "version": 3
   },
   "file_extension": ".py",
   "mimetype": "text/x-python",
   "name": "python",
   "nbconvert_exporter": "python",
   "pygments_lexer": "ipython3",
   "version": "3.12.3"
  }
 },
 "nbformat": 4,
 "nbformat_minor": 2
}
